{
 "cells": [
  {
   "cell_type": "code",
   "execution_count": 1,
   "metadata": {},
   "outputs": [],
   "source": [
    "from utils import get_webpage_content, extract_params, process_model_output, filter_json\n",
    "from json5 import loads\n",
    "import pandas as pd\n",
    "pd.set_option('display.max_colwidth', None)\n",
    "from tqdm import tqdm"
   ]
  },
  {
   "cell_type": "code",
   "execution_count": null,
   "metadata": {},
   "outputs": [],
   "source": [
    "example_single = \"I'm searching for beers with ABV greater than 6%, IBU less than 80, EBC greater than 15, brewed after 01-2025, using yeast named Brettanomyces, hops named Nugget, malt named Chocolate, that go well with fish_and_chips, and named Punk_IPA.\"\n",
    "processed_text = extract_params(example_single)\n",
    "# print('*' + processed_text)\n",
    "processed_text = process_model_output(processed_text)\n",
    "# print('**' + processed_text)\n",
    "processed_text = loads(processed_text)\n",
    "print(str(processed_text))\n",
    "print('-----------------')\n",
    "processed_text_filtered, errors = filter_json(processed_text)\n",
    "print(str(processed_text_filtered), errors)"
   ]
  },
  {
   "cell_type": "code",
   "execution_count": 2,
   "metadata": {},
   "outputs": [],
   "source": [
    "with open('test_cases.txt', 'r') as f:\n",
    "    examples = f.read().split('\\n')\n",
    "\n",
    "examples_processed = [example.split(\"\\\"\")[1].split(\"\\\"\")[0] for example in examples]\n",
    "examples_cases = [example.split(\"(\")[1].split(\")\")[0] if len(example.split(\"(\")) > 1 else None for example in examples]"
   ]
  },
  {
   "cell_type": "code",
   "execution_count": 3,
   "metadata": {},
   "outputs": [
    {
     "name": "stderr",
     "output_type": "stream",
     "text": [
      "  0%|          | 0/5 [00:00<?, ?it/s]"
     ]
    }
   ],
   "source": [
    "examples_list = []\n",
    "case_list = []\n",
    "output_list = []\n",
    "output_filtered_list = []\n",
    "error_list = []\n",
    "\n",
    "for i in tqdm(range(5)):\n",
    "    examples_list.append(examples_processed[i])\n",
    "    case_list.append(examples_cases[i])\n",
    "    count = 0\n",
    "    while count < 2:\n",
    "        try:\n",
    "            processed_text = loads(process_model_output(extract_params(examples_processed[i])))\n",
    "            processed_text_filtered, errors = filter_json(processed_text)\n",
    "            output_list.append(processed_text)\n",
    "            output_filtered_list.append(processed_text_filtered)\n",
    "            error_list.append(errors)\n",
    "            count = 2\n",
    "        except:\n",
    "            count += 1\n",
    "            if count == 2:\n",
    "                output_list.append(\"{}\")\n",
    "                output_filtered_list.append(\"{}\")\n",
    "                error_list.append(\"\")\n",
    "            continue"
   ]
  },
  {
   "cell_type": "code",
   "execution_count": null,
   "metadata": {},
   "outputs": [],
   "source": [
    "pd.DataFrame({\"Example\": examples_list, \"Edge_Case\": case_list, \"Output\": output_list, \"Filtered_Output\": output_filtered_list, \"Errors\": error_list})"
   ]
  },
  {
   "cell_type": "code",
   "execution_count": null,
   "metadata": {},
   "outputs": [],
   "source": [
    "query_string = \"&\".join([f\"{key}={value}\" for key, value in output_filtered_list.items()] + [f\"per_page={per_page}\"])"
   ]
  },
  {
   "cell_type": "code",
   "execution_count": null,
   "metadata": {},
   "outputs": [],
   "source": [
    "query_string"
   ]
  },
  {
   "cell_type": "code",
   "execution_count": null,
   "metadata": {},
   "outputs": [],
   "source": [
    "content = get_webpage_content(\"https://api.punkapi.com/v2/beers?\" + query_string)\n",
    "content = loads(content)"
   ]
  },
  {
   "cell_type": "code",
   "execution_count": null,
   "metadata": {},
   "outputs": [],
   "source": [
    "len(content)"
   ]
  },
  {
   "cell_type": "code",
   "execution_count": null,
   "metadata": {},
   "outputs": [],
   "source": [
    "content"
   ]
  },
  {
   "cell_type": "code",
   "execution_count": null,
   "metadata": {},
   "outputs": [],
   "source": [
    "import os\n",
    "from dotenv import load_dotenv\n",
    "import openai\n",
    "\n",
    "load_dotenv()\n",
    "openai.api_key = os.getenv(\"OPENAI_API_KEY\")\n",
    "tokenizer = openai."
   ]
  },
  {
   "cell_type": "code",
   "execution_count": null,
   "metadata": {},
   "outputs": [],
   "source": []
  }
 ],
 "metadata": {
  "kernelspec": {
   "display_name": "Python 3",
   "language": "python",
   "name": "python3"
  },
  "language_info": {
   "codemirror_mode": {
    "name": "ipython",
    "version": 3
   },
   "file_extension": ".py",
   "mimetype": "text/x-python",
   "name": "python",
   "nbconvert_exporter": "python",
   "pygments_lexer": "ipython3",
   "version": "3.10.6"
  },
  "orig_nbformat": 4
 },
 "nbformat": 4,
 "nbformat_minor": 2
}
