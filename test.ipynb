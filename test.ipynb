{
 "cells": [
  {
   "cell_type": "code",
   "execution_count": 1,
   "metadata": {},
   "outputs": [],
   "source": [
    "from utils import get_webpage_content, extract_params, process_model_output, filter_json\n",
    "from json5 import loads\n",
    "import pandas as pd\n",
    "pd.set_option('display.max_colwidth', None)\n",
    "from tqdm import tqdm"
   ]
  },
  {
   "cell_type": "code",
   "execution_count": 2,
   "metadata": {},
   "outputs": [
    {
     "name": "stdout",
     "output_type": "stream",
     "text": [
      "{'abv_gt': 200, 'brewed_before': '08-2024'}\n",
      "-----------------\n",
      "Error: Invalid number format, abv_gt is above 100\n",
      "Error: Invalid date format, brewed_before is not in mm-yyyy format Q\n",
      "\n"
     ]
    }
   ],
   "source": [
    "example_single = \"Find me a beer brewed before 08-2024 with ABV more than 200.\" \n",
    "processed_text = extract_params(example_single)\n",
    "# print('*' + processed_text)\n",
    "processed_text = process_model_output(processed_text)\n",
    "# print('**' + processed_text)\n",
    "processed_text = loads(processed_text)\n",
    "print(str(processed_text))\n",
    "print('-----------------')\n",
    "processed_text = filter_json(processed_text)\n",
    "print(str(processed_text))"
   ]
  },
  {
   "cell_type": "code",
   "execution_count": null,
   "metadata": {},
   "outputs": [],
   "source": [
    "with open('test_cases.txt', 'r') as f:\n",
    "    examples = f.read().split('\\n')\n",
    "\n",
    "examples_processed = [example.split(\"\\\"\")[1].split(\"\\\"\")[0] for example in examples]\n",
    "examples_cases = [example.split(\"(\")[1].split(\")\")[0] if len(example.split(\"(\")) > 1 else None for example in examples]"
   ]
  },
  {
   "cell_type": "code",
   "execution_count": null,
   "metadata": {},
   "outputs": [],
   "source": [
    "examples_list = []\n",
    "case_list = []\n",
    "output_list = []\n",
    "\n",
    "for i in tqdm(range(100)):\n",
    "    examples_list.append(examples[i])\n",
    "    case_list.append(examples_cases[i])\n",
    "    count = 0\n",
    "    while count < 2:\n",
    "        try:\n",
    "            output_list.append(filter_json(loads(process_model_output(extract_params(examples_processed[i])))))\n",
    "            count = 2\n",
    "        except:\n",
    "            count += 1\n",
    "            if count == 2:\n",
    "                output_list.append(\"{}\")\n",
    "            continue"
   ]
  },
  {
   "cell_type": "code",
   "execution_count": null,
   "metadata": {},
   "outputs": [],
   "source": [
    "pd.DataFrame({\"Example\": examples_list, \"Edge_Case\": case_list, \"Output\": output_list}).to_csv(\"test_results_v4.csv\", index=True)"
   ]
  },
  {
   "cell_type": "code",
   "execution_count": null,
   "metadata": {},
   "outputs": [],
   "source": [
    "for sample in output_list:\n",
    "    try:\n",
    "        json_input = loads(sample)\n",
    "        json_input = {key: json_input[key] for key in json_input.keys() if key in [\"abv_gt\", \"abv_lt\", \"ibu_gt\", \"ibu_lt\", \"ebc_gt\", \"ebc_lt\", \"brewed_before\", \"brewed_after\"]}\n",
    "        json_input = {key: json_input[key] for key in json_input.keys() if json_input[key] is not None}\n",
    "        json_input = {key: json_input[key] for key in json_input.keys() if json_input[key] != \"\"}\n",
    "        json_input = {key: json_input[key] for key in json_input.keys() if json_input[key].strip() != \"\"}\n",
    "        if \"brewed_before\" in json_input.keys():\n",
    "            if len(json_input[\"brewed_before\"].split(\"-\")) != 2:\n",
    "                json_input.pop(\"brewed_before\")\n",
    "            elif len(json_input[\"brewed_before\"].split(\"-\")[0]) != 2 or len(json_input[\"brewed_before\"].split(\"-\")[1]) != 4:\n",
    "                json_input.pop(\"brewed_before\")\n",
    "        if \"brewed_after\" in json_input.keys():\n",
    "            if len(json_input[\"brewed_after\"].split(\"-\")) != 2:\n",
    "                json_input.pop(\"brewed_after\")\n",
    "            elif len(json_input[\"brewed_after\"].split(\"-\")[0]) != 2 or len(json_input[\"brewed_after\"].split(\"-\")[1]) != 4:\n",
    "                json_input.pop(\"brewed_after\")\n",
    "\n",
    "        # check the mm is below 13 and yyyy is below current date\n",
    "        if \"brewed_before\" in json_input.keys():\n",
    "            if int(json_input[\"brewed_before\"].split(\"-\")[0]) > 12 or int(json_input[\"brewed_before\"].split(\"-\")[1]) > 2023:\n",
    "                json_input.pop(\"brewed_before\")\n",
    "\n",
    "        if \"brewed_after\" in json_input.keys():\n",
    "            if int(json_input[\"brewed_after\"].split(\"-\")[0]) > 12 or int(json_input[\"brewed_after\"].split(\"-\")[1]) > 2023:\n",
    "                json_input.pop(\"brewed_after\")\n",
    "        \n",
    "        print(json_input)\n",
    "    except:\n",
    "        print('error', sample)"
   ]
  },
  {
   "cell_type": "code",
   "execution_count": null,
   "metadata": {},
   "outputs": [],
   "source": [
    "model_output_json"
   ]
  },
  {
   "cell_type": "code",
   "execution_count": null,
   "metadata": {},
   "outputs": [],
   "source": [
    "query_string = \"&\".join([f\"{key}={value}\" for key, value in model_output_json.items()])"
   ]
  },
  {
   "cell_type": "code",
   "execution_count": null,
   "metadata": {},
   "outputs": [],
   "source": [
    "query_string"
   ]
  },
  {
   "cell_type": "code",
   "execution_count": null,
   "metadata": {},
   "outputs": [],
   "source": [
    "content = get_webpage_content(\"https://api.punkapi.com/v2/beers?\" + 'hops=hoppy')\n",
    "content = loads(content)"
   ]
  },
  {
   "cell_type": "code",
   "execution_count": null,
   "metadata": {},
   "outputs": [],
   "source": [
    "len(content)"
   ]
  },
  {
   "cell_type": "code",
   "execution_count": null,
   "metadata": {},
   "outputs": [],
   "source": [
    "content"
   ]
  },
  {
   "cell_type": "code",
   "execution_count": null,
   "metadata": {},
   "outputs": [],
   "source": [
    "import os\n",
    "from dotenv import load_dotenv\n",
    "import openai\n",
    "\n",
    "load_dotenv()\n",
    "openai.api_key = os.getenv(\"OPENAI_API_KEY\")\n",
    "tokenizer = openai."
   ]
  },
  {
   "cell_type": "code",
   "execution_count": null,
   "metadata": {},
   "outputs": [],
   "source": []
  }
 ],
 "metadata": {
  "kernelspec": {
   "display_name": "Python 3",
   "language": "python",
   "name": "python3"
  },
  "language_info": {
   "codemirror_mode": {
    "name": "ipython",
    "version": 3
   },
   "file_extension": ".py",
   "mimetype": "text/x-python",
   "name": "python",
   "nbconvert_exporter": "python",
   "pygments_lexer": "ipython3",
   "version": "3.10.6"
  },
  "orig_nbformat": 4
 },
 "nbformat": 4,
 "nbformat_minor": 2
}
